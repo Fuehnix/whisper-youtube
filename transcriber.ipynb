{
 "cells": [
  {
   "cell_type": "code",
   "execution_count": 10,
   "metadata": {},
   "outputs": [
    {
     "name": "stdout",
     "output_type": "stream",
     "text": [
      "CUDA enabled: True\n",
      "Requirement already satisfied: yt_dlp in c:\\users\\user\\appdata\\local\\programs\\python\\python310\\lib\\site-packages (2023.3.4)\n",
      "Requirement already satisfied: mutagen in c:\\users\\user\\appdata\\local\\programs\\python\\python310\\lib\\site-packages (from yt_dlp) (1.46.0)\n",
      "Requirement already satisfied: pycryptodomex in c:\\users\\user\\appdata\\local\\programs\\python\\python310\\lib\\site-packages (from yt_dlp) (3.18.0)\n",
      "Requirement already satisfied: websockets in c:\\users\\user\\appdata\\local\\programs\\python\\python310\\lib\\site-packages (from yt_dlp) (11.0.3)\n",
      "Requirement already satisfied: certifi in c:\\users\\user\\appdata\\local\\programs\\python\\python310\\lib\\site-packages (from yt_dlp) (2022.12.7)\n",
      "Requirement already satisfied: brotli in c:\\users\\user\\appdata\\local\\programs\\python\\python310\\lib\\site-packages (from yt_dlp) (1.0.9)\n",
      "Requirement already satisfied: tqdm in c:\\users\\user\\appdata\\local\\programs\\python\\python310\\lib\\site-packages (4.65.0)\n",
      "Requirement already satisfied: colorama in c:\\users\\user\\appdata\\local\\programs\\python\\python310\\lib\\site-packages (from tqdm) (0.4.6)\n"
     ]
    },
    {
     "name": "stderr",
     "output_type": "stream",
     "text": [
      "ERROR: Could not find a version that satisfies the requirement glob (from versions: none)\n",
      "ERROR: No matching distribution found for glob\n"
     ]
    }
   ],
   "source": [
    "#check/install libraries\n",
    "#if CUDA is not enabled, or if you encounter issues with whisper running on CPU, refer to the following thread:\n",
    "#https://github.com/openai/whisper/discussions/47\n",
    "import torch\n",
    "print(\"CUDA enabled:\", torch.cuda.is_available())\n",
    "!pip install yt_dlp\n",
    "!pip install tqdm\n",
    "!pip install git+https://github.com/openai/whisper.git -q\n",
    "\n"
   ]
  },
  {
   "cell_type": "code",
   "execution_count": 7,
   "metadata": {},
   "outputs": [
    {
     "name": "stdout",
     "output_type": "stream",
     "text": [
      "                                                                        \r"
     ]
    },
    {
     "name": "stderr",
     "output_type": "stream",
     "text": [
      "  0%|          | 0/8 [00:00<?, ?it/s]"
     ]
    },
    {
     "name": "stdout",
     "output_type": "stream",
     "text": [
      "g:\\Jupyterstuff\\Research\\Quench\\whisper-youtube\\output\\playlist1\\Acid-Base Disorders - Sketchy Medical (USMLE Step 1 Review).txt\n"
     ]
    },
    {
     "name": "stderr",
     "output_type": "stream",
     "text": [
      " 12%|█▎        | 1/8 [04:45<33:17, 285.35s/it]"
     ]
    },
    {
     "name": "stdout",
     "output_type": "stream",
     "text": [
      "g:\\Jupyterstuff\\Research\\Quench\\whisper-youtube\\output\\playlist1\\Introduction to Obstetrics with Sketchy Medical Visual Learning.txt\n"
     ]
    },
    {
     "name": "stderr",
     "output_type": "stream",
     "text": [
      " 25%|██▌       | 2/8 [05:09<13:10, 131.67s/it]"
     ]
    },
    {
     "name": "stdout",
     "output_type": "stream",
     "text": [
      "g:\\Jupyterstuff\\Research\\Quench\\whisper-youtube\\output\\playlist1\\Learn about Cholinomimetics - Sketchy Medical.txt\n"
     ]
    },
    {
     "name": "stderr",
     "output_type": "stream",
     "text": [
      " 38%|███▊      | 3/8 [05:20<06:23, 76.61s/it] "
     ]
    },
    {
     "name": "stdout",
     "output_type": "stream",
     "text": [
      "g:\\Jupyterstuff\\Research\\Quench\\whisper-youtube\\output\\playlist1\\Learn about Chronic Heart Failure SOA - Sketchy Medical.txt\n"
     ]
    },
    {
     "name": "stderr",
     "output_type": "stream",
     "text": [
      " 50%|█████     | 4/8 [05:33<03:25, 51.34s/it]"
     ]
    },
    {
     "name": "stdout",
     "output_type": "stream",
     "text": [
      "g:\\Jupyterstuff\\Research\\Quench\\whisper-youtube\\output\\playlist1\\Learn about Staphylococcus aureus - Sketchy Medical (USMLE Step 1).txt\n"
     ]
    },
    {
     "name": "stderr",
     "output_type": "stream",
     "text": [
      " 62%|██████▎   | 5/8 [05:52<01:59, 39.76s/it]"
     ]
    },
    {
     "name": "stdout",
     "output_type": "stream",
     "text": [
      "g:\\Jupyterstuff\\Research\\Quench\\whisper-youtube\\output\\playlist1\\Learn Chest X-Ray (CXR) Interpretation in 8 mins with Sketchy Medical (Full Lesson).txt\n"
     ]
    },
    {
     "name": "stderr",
     "output_type": "stream",
     "text": [
      " 75%|███████▌  | 6/8 [06:54<01:34, 47.38s/it]"
     ]
    },
    {
     "name": "stdout",
     "output_type": "stream",
     "text": [
      "g:\\Jupyterstuff\\Research\\Quench\\whisper-youtube\\output\\playlist1\\Proteus - SketchyMicro ⧸ Sketchy Medical (USMLE Step 1).txt\n"
     ]
    },
    {
     "name": "stderr",
     "output_type": "stream",
     "text": [
      " 88%|████████▊ | 7/8 [07:16<00:39, 39.21s/it]"
     ]
    },
    {
     "name": "stdout",
     "output_type": "stream",
     "text": [
      "g:\\Jupyterstuff\\Research\\Quench\\whisper-youtube\\output\\playlist1\\Salmonella's Salmon Diner - SketchyMicro ⧸ Sketchy Medical (USMLE Step 1).txt\n"
     ]
    },
    {
     "name": "stderr",
     "output_type": "stream",
     "text": [
      "100%|██████████| 8/8 [08:32<00:00, 64.06s/it]\n"
     ]
    }
   ],
   "source": [
    "import yt_dlp \n",
    "import os\n",
    "from tqdm import tqdm\n",
    "import glob\n",
    "import whisper\n",
    "\n",
    "# Reading the YouTube playlist\n",
    "# urls = [\"https://www.youtube.com/watch?v=PURvJV2SMso&list=UULPNI0qOojpkhsUtaQ4_2NUhQ\",\n",
    "#         \"https://www.youtube.com/watch?v=MVqeeVlmWZ4&list=PLQ_IRFkDInv-NvRRUN0aqe51sMs188k8z\",\n",
    "#         \"https://www.youtube.com/watch?v=Hwi9dsFBuhg&list=UULPPHpx55tgrbm8FrYYCflAHw\",\n",
    "#         \"https://www.youtube.com/watch?v=-sM-sRGtOcE&list=UULFesNt4_Z-Pm41RzpAClfVcg\",\n",
    "#         \"https://www.youtube.com/watch?v=--N2d5Yp6HE&list=UULF8xEQrU6VhJU6pDZd-GkJWg\",\n",
    "#         \"https://www.youtube.com/watch?v=teL-GFw-IQs&list=UULFkjnrEHQ8bQQmlfNdAQC_5w\",\n",
    "#         \"https://www.youtube.com/watch?v=WXNMSMCsl9w&list=UULFHn_K1zOBYZqtmIYkXLEIQw\",\n",
    "#         \"https://www.youtube.com/watch?v=jYiRApga__k&list=UULFyaG5WliXdoVSC-yh5iDk8Q\",\n",
    "#         \"https://www.youtube.com/watch?v=W3P6uvcsPyc&list=UULFFq5vPnNRNNNysLrktz4aSw\",\n",
    "#         \"https://www.youtube.com/watch?v=BayzMj3n5_I&list=UULF-i2EBYXH6-GAglvuDIaufQ\",\n",
    "#         \"https://www.youtube.com/watch?v=S4Uv5UiXHRM&list=UULFe9lb3da4XAnN7v3ciTyquQ\",\n",
    "#         \"https://www.youtube.com/watch?v=LsRQ5_EmxJA&list=UULPZaDAUF7UEcRXIFvGZu3O9Q\",\n",
    "#         \"https://www.youtube.com/watch?v=7grZEazD4Os&list=PLseExgixGFojoKIvOQZsYHtRdnRlW2aAZ\",\n",
    "#         \"https://www.youtube.com/watch?v=gGS7tddt1XA&list=UULFwZEjeak8ychtv2Unng5W2A\",\n",
    "#         \"https://www.youtube.com/watch?v=jjUBpfo9Hmw&list=UULFrtd2wePvAl6RN_D-9jWVQQ\",\n",
    "#         \"https://www.youtube.com/watch?v=hMfnsE2fI-w&list=UULFlkXvSknnBu4wfvBCwT9AGw\"\n",
    "#         ]\n",
    "urls = [\"https://www.youtube.com/watch?v=7grZEazD4Os&list=PLseExgixGFojoKIvOQZsYHtRdnRlW2aAZ\"]\n",
    "# url = \"https://www.youtube.com/watch?v=x7X9w_GIm1s\"\n",
    "\n",
    "counter = 1\n",
    "model = whisper.load_model(\"large\")\n",
    "path = ((os.getcwd()) + '\\\\downloads\\\\')\n",
    "file_path = os.path.join(path, '*.wav')\n",
    "\n",
    "for playlist in urls:\n",
    "    ydl_opts = {\n",
    "        'format': 'bestaudio/best',\n",
    "        'outtmpl': (os.getcwd()) + '/downloads/playlist' + str(counter) + '/%(title)s.%(ext)s',\n",
    "        'quiet': True,\n",
    "        'no_warnings': True,\n",
    "        'progress' : True,\n",
    "        'postprocessors': [{\n",
    "            'key': 'FFmpegExtractAudio',\n",
    "            'preferredcodec': 'wav',\n",
    "            'preferredquality': '192',\n",
    "        }],\n",
    "    }\n",
    "\n",
    "    with yt_dlp.YoutubeDL(ydl_opts) as ydl:\n",
    "        ydl.download([playlist])\n",
    "\n",
    "for filename in tqdm(glob.glob(os.path.join(path, '*.wav'))):\n",
    "    outputFileName = os.getcwd() + \"\\\\output\\\\playlist\" + str(counter) + \"\\\\\" + os.path.basename(filename)[:-4] + \".txt\"\n",
    "    # print(filename)\n",
    "    print(outputFileName)\n",
    "    if os.path.exists(filename):\n",
    "        # File exists, continue with loading or processing\n",
    "        text = model.transcribe(filename)\n",
    "        #printing the transcribe\n",
    "        with open(outputFileName, \"w\") as text_file:\n",
    "            print(text['text'],file=text_file)\n",
    "    else:\n",
    "        print(\"File not found!\")"
   ]
  },
  {
   "cell_type": "code",
   "execution_count": 5,
   "metadata": {},
   "outputs": [],
   "source": [
    "import whisper\n",
    "model = whisper.load_model(\"large\")"
   ]
  },
  {
   "cell_type": "code",
   "execution_count": 6,
   "metadata": {},
   "outputs": [
    {
     "name": "stderr",
     "output_type": "stream",
     "text": [
      "  0%|          | 0/8 [00:00<?, ?it/s]"
     ]
    },
    {
     "name": "stdout",
     "output_type": "stream",
     "text": [
      "g:\\Jupyterstuff\\Research\\Quench\\whisper-youtube\\output\\playlist1\\Acid-Base Disorders - Sketchy Medical (USMLE Step 1 Review).txt\n"
     ]
    },
    {
     "name": "stderr",
     "output_type": "stream",
     "text": [
      " 12%|█▎        | 1/8 [04:42<32:56, 282.37s/it]"
     ]
    },
    {
     "name": "stdout",
     "output_type": "stream",
     "text": [
      "g:\\Jupyterstuff\\Research\\Quench\\whisper-youtube\\output\\playlist1\\Introduction to Obstetrics with Sketchy Medical Visual Learning.txt\n"
     ]
    },
    {
     "name": "stderr",
     "output_type": "stream",
     "text": [
      " 25%|██▌       | 2/8 [05:05<12:58, 129.76s/it]"
     ]
    },
    {
     "name": "stdout",
     "output_type": "stream",
     "text": [
      "g:\\Jupyterstuff\\Research\\Quench\\whisper-youtube\\output\\playlist1\\Learn about Cholinomimetics - Sketchy Medical.txt\n"
     ]
    },
    {
     "name": "stderr",
     "output_type": "stream",
     "text": [
      " 38%|███▊      | 3/8 [05:16<06:17, 75.40s/it] "
     ]
    },
    {
     "name": "stdout",
     "output_type": "stream",
     "text": [
      "g:\\Jupyterstuff\\Research\\Quench\\whisper-youtube\\output\\playlist1\\Learn about Chronic Heart Failure SOA - Sketchy Medical.txt\n"
     ]
    },
    {
     "name": "stderr",
     "output_type": "stream",
     "text": [
      " 50%|█████     | 4/8 [05:27<03:21, 50.29s/it]"
     ]
    },
    {
     "name": "stdout",
     "output_type": "stream",
     "text": [
      "g:\\Jupyterstuff\\Research\\Quench\\whisper-youtube\\output\\playlist1\\Learn about Staphylococcus aureus - Sketchy Medical (USMLE Step 1).txt\n"
     ]
    },
    {
     "name": "stderr",
     "output_type": "stream",
     "text": [
      " 62%|██████▎   | 5/8 [05:47<01:57, 39.24s/it]"
     ]
    },
    {
     "name": "stdout",
     "output_type": "stream",
     "text": [
      "g:\\Jupyterstuff\\Research\\Quench\\whisper-youtube\\output\\playlist1\\Learn Chest X-Ray (CXR) Interpretation in 8 mins with Sketchy Medical (Full Lesson).txt\n"
     ]
    },
    {
     "name": "stderr",
     "output_type": "stream",
     "text": [
      " 75%|███████▌  | 6/8 [06:50<01:34, 47.24s/it]"
     ]
    },
    {
     "name": "stdout",
     "output_type": "stream",
     "text": [
      "g:\\Jupyterstuff\\Research\\Quench\\whisper-youtube\\output\\playlist1\\Proteus - SketchyMicro ⧸ Sketchy Medical (USMLE Step 1).txt\n"
     ]
    },
    {
     "name": "stderr",
     "output_type": "stream",
     "text": [
      " 88%|████████▊ | 7/8 [07:13<00:39, 39.35s/it]"
     ]
    },
    {
     "name": "stdout",
     "output_type": "stream",
     "text": [
      "g:\\Jupyterstuff\\Research\\Quench\\whisper-youtube\\output\\playlist1\\Salmonella's Salmon Diner - SketchyMicro ⧸ Sketchy Medical (USMLE Step 1).txt\n"
     ]
    },
    {
     "name": "stderr",
     "output_type": "stream",
     "text": [
      "100%|██████████| 8/8 [08:30<00:00, 63.82s/it]\n"
     ]
    }
   ],
   "source": [
    "import os\n",
    "import glob\n",
    "from tqdm import tqdm\n",
    "\n",
    "\n",
    "counter = 1\n",
    "path = ((os.getcwd()) + '\\\\downloads\\\\')\n",
    "file_path = os.path.join(path, '*.wav')\n",
    "\n",
    "for filename in tqdm(glob.glob(os.path.join(path, '*.wav'))):\n",
    "    outputFileName = os.getcwd() + \"\\\\output\\\\playlist\" + str(counter) + \"\\\\\" + os.path.basename(filename)[:-4] + \".txt\"\n",
    "    # print(filename)\n",
    "    print(outputFileName)\n",
    "    if os.path.exists(filename):\n",
    "        # File exists, continue with loading or processing\n",
    "        text = model.transcribe(filename)\n",
    "        #printing the transcribe\n",
    "        with open(outputFileName, \"w\") as text_file:\n",
    "            print(text['text'],file=text_file)\n",
    "    else:\n",
    "        print(\"File not found!\")\n",
    "\n",
    "\n",
    "\n",
    "# print(file_path)\n"
   ]
  },
  {
   "cell_type": "code",
   "execution_count": null,
   "metadata": {},
   "outputs": [],
   "source": []
  },
  {
   "cell_type": "code",
   "execution_count": null,
   "metadata": {},
   "outputs": [],
   "source": []
  }
 ],
 "metadata": {
  "kernelspec": {
   "display_name": "Python 3",
   "language": "python",
   "name": "python3"
  },
  "language_info": {
   "codemirror_mode": {
    "name": "ipython",
    "version": 3
   },
   "file_extension": ".py",
   "mimetype": "text/x-python",
   "name": "python",
   "nbconvert_exporter": "python",
   "pygments_lexer": "ipython3",
   "version": "3.10.10"
  },
  "orig_nbformat": 4
 },
 "nbformat": 4,
 "nbformat_minor": 2
}
